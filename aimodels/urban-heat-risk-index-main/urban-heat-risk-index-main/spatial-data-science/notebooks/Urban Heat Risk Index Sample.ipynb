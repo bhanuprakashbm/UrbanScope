{
 "cells": [
  {
   "cell_type": "markdown",
   "id": "6a9f622f",
   "metadata": {},
   "source": [
    "# Calculate the heat risk index\n",
    "We calculate the heat risk index using a spatial extent. The extent should not exceed small urban neighborhoods."
   ]
  },
  {
   "cell_type": "code",
   "execution_count": null,
   "id": "150b3605",
   "metadata": {},
   "outputs": [],
   "source": [
    "from arcgis.gis import GIS\n",
    "from arcgis.features import GeoAccessor\n",
    "from heatri import calculate_heat_risk_index_using_extent, generate_renderer"
   ]
  },
  {
   "cell_type": "code",
   "execution_count": null,
   "id": "472f9ae8",
   "metadata": {},
   "outputs": [],
   "source": [
    "gis = GIS('home')"
   ]
  },
  {
   "cell_type": "code",
   "execution_count": null,
   "id": "16bbe714",
   "metadata": {},
   "outputs": [],
   "source": [
    "bonn_map = gis.map('Bonn, Germany')\n",
    "bonn_map"
   ]
  },
  {
   "cell_type": "code",
   "execution_count": null,
   "id": "215f9d8d",
   "metadata": {},
   "outputs": [],
   "source": [
    "bonn_map.extent"
   ]
  },
  {
   "cell_type": "markdown",
   "id": "605d12d8",
   "metadata": {},
   "source": [
    "## Heat risk index for the specified extent\n",
    "The calculate field expression ignores None types, but also create warnings."
   ]
  },
  {
   "cell_type": "code",
   "execution_count": null,
   "id": "16076048",
   "metadata": {},
   "outputs": [],
   "source": [
    "heat_risk_index_features = calculate_heat_risk_index_using_extent(bonn_map.extent)\n",
    "hri_sdf = GeoAccessor.from_featureclass(heat_risk_index_features)"
   ]
  },
  {
   "cell_type": "markdown",
   "id": "83099b20",
   "metadata": {},
   "source": [
    "### Visualize the heat risk index\n",
    "We use a pre-defined class breaks renderer."
   ]
  },
  {
   "cell_type": "code",
   "execution_count": null,
   "id": "ff0b516f",
   "metadata": {
    "scrolled": false
   },
   "outputs": [],
   "source": [
    "drawing_info = {\n",
    "    'renderer': generate_renderer()\n",
    "}\n",
    "hri_feature_collection = hri_sdf.spatial.to_feature_collection(drawing_info=drawing_info)\n",
    "\n",
    "# Create a new map view plotting the heat risk\n",
    "hri_map = gis.map()\n",
    "hri_map.add_layer(hri_feature_collection)\n",
    "hri_map.zoom_to_layer(hri_sdf)\n",
    "hri_map"
   ]
  },
  {
   "cell_type": "code",
   "execution_count": null,
   "id": "69677bfb",
   "metadata": {},
   "outputs": [],
   "source": []
  }
 ],
 "metadata": {
  "kernelspec": {
   "display_name": "Python 3 (ipykernel)",
   "language": "python",
   "name": "python3"
  },
  "language_info": {
   "codemirror_mode": {
    "name": "ipython",
    "version": 3
   },
   "file_extension": ".py",
   "mimetype": "text/x-python",
   "name": "python",
   "nbconvert_exporter": "python",
   "pygments_lexer": "ipython3",
   "version": "3.11.8"
  }
 },
 "nbformat": 4,
 "nbformat_minor": 5
}
